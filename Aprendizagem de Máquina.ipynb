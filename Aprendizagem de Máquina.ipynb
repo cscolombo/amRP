{
 "cells": [
  {
   "cell_type": "markdown",
   "metadata": {},
   "source": [
    "# Aprendizagem de Máquina: \n",
    "## Reconhecimento de Padrões, Redes Neurais e Inteligência Computacional"
   ]
  },
  {
   "cell_type": "markdown",
   "metadata": {},
   "source": [
    "### Exemplo 1.1: A distância Euclidiana entre a primeira e segunda flor em um espaço 4-dimensional."
   ]
  },
  {
   "cell_type": "code",
   "execution_count": 26,
   "metadata": {},
   "outputs": [
    {
     "name": "stdout",
     "output_type": "stream",
     "text": [
      "Dimensões do dataset: \n",
      "(150, 4)\n",
      "\n",
      "As duas primeiras flores do dataset: \n",
      "[[5.1 3.5 1.4 0.2]\n",
      " [4.9 3.  1.4 0.2]]\n",
      "\n",
      "Distância Euclidiana entre as duas primeiras flores: 0.538516480713\n"
     ]
    }
   ],
   "source": [
    "#import sklearn as sk\n",
    "import numpy as np\n",
    "#import matplotlib.pyplot as plt\n",
    "from sklearn import datasets\n",
    "import math\n",
    "\n",
    "# Carrega o dataset Iris\n",
    "ds = datasets.load_iris()\n",
    "iris = ds.data\n",
    "\n",
    "# Imprime as dimensões do dataset\n",
    "print(\"Dimensões do dataset: \")\n",
    "print(iris.shape)\n",
    "\n",
    "# Imprime o dataset\n",
    "# print(iris)\n",
    "\n",
    "# Imprime as primeiras 2 flores do dataset\n",
    "print(\"\\nAs duas primeiras flores do dataset: \")\n",
    "print(iris[0:2])\n",
    "\n",
    "# Calcula e imprime a distância Euclidiana entre a 1a e a 2a flor do dataset\n",
    "dp = np.zeros((4,1))\n",
    "for i in range(4):\n",
    "    dp[i] = iris[0,i] - iris[1,i]\n",
    "\n",
    "distEucl = math.sqrt(math.pow(dp[0], 2) + math.pow(dp[1], 2) + math.pow(dp[2], 2) + math.pow(dp[3], 2))\n",
    "print(\"\\nDistância Euclidiana entre as duas primeiras flores: %s\" %distEucl) "
   ]
  },
  {
   "cell_type": "markdown",
   "metadata": {},
   "source": [
    "### Exemplo 1.2: Em um sistema tridimensional de coordenadas cartesiano, temos 3 vetores unitários que formam a base do sistema, ou seja, os eixos."
   ]
  },
  {
   "cell_type": "code",
   "execution_count": 27,
   "metadata": {},
   "outputs": [
    {
     "name": "stdout",
     "output_type": "stream",
     "text": [
      "Vetor unitário setosa (T) \n",
      " [[1. 0. 0.]]\n",
      "\n",
      "Vetor unitário versicolor (T) \n",
      " [[0. 1. 0.]]\n",
      "\n",
      "Vetor unitário virgínica (T) \n",
      " [[0. 0. 1.]]\n"
     ]
    }
   ],
   "source": [
    "# Cria a representação dos vetores unitários\n",
    "e1 = np.zeros((1,3))\n",
    "e2 = np.zeros((1,3))\n",
    "e3 = np.zeros((1,3))\n",
    "\n",
    "# Associa o rótulo da classe no vetor binário\n",
    "e1[0,0] = 1\n",
    "e2[0,1] = 1\n",
    "e3[0,2] = 1\n",
    "\n",
    "print(\"Vetor unitário setosa (T) \\n %s\" %e1)\n",
    "print(\"\\nVetor unitário versicolor (T) \\n %s\" %e2)\n",
    "print(\"\\nVetor unitário virgínica (T) \\n %s\" %e3)"
   ]
  },
  {
   "cell_type": "markdown",
   "metadata": {},
   "source": [
    "### Exemplo 1.3: O produto escalar entre dois vetores."
   ]
  },
  {
   "cell_type": "code",
   "execution_count": 28,
   "metadata": {},
   "outputs": [
    {
     "name": "stdout",
     "output_type": "stream",
     "text": [
      "Vetor a \n",
      " [[4]\n",
      " [3]]\n",
      "\n",
      "Vetor b \n",
      " [[1]\n",
      " [3]]\n",
      "\n",
      "Norma quadrática do vetor a = 5.0\n",
      "\n",
      "Vetor unitário â\n",
      " [[0.8]\n",
      " [0.6]]\n",
      "\n",
      "Produto escalar dos vetores a*b = [13]\n",
      "\n",
      "Produto escalar de b com o vetor unitário â = [2.6]\n",
      "\n",
      "Vetor normal n em relação à a \n",
      " [[ 1.08]\n",
      " [-1.44]]\n"
     ]
    }
   ],
   "source": [
    "# Cria os vetores\n",
    "a = np.array([[4], [3]])\n",
    "b = np.array([[1], [3]])\n",
    "print(\"Vetor a \\n %s\" %a)\n",
    "print(\"\\nVetor b \\n %s\" %b)\n",
    "\n",
    "# Calcula a norma quadrática do vetor a\n",
    "aQ = np.sqrt(math.pow(4,2) + math.pow(3,2))\n",
    "print(\"\\nNorma quadrática do vetor a = %s\" %aQ)\n",
    "\n",
    "# Calcula o vetor unitário â\n",
    "aUnit = 1./5. * a\n",
    "print(\"\\nVetor unitário â\\n %s\" %aUnit)\n",
    "\n",
    "# Calcula o produto escalar dos dois vetores\n",
    "prodEsc = (a[0] * b[0]) + (a[1] * b[1])\n",
    "#prodEsc = np.dot(a,b)\n",
    "print(\"\\nProduto escalar dos vetores a*b = %s\" %prodEsc)\n",
    "\n",
    "# Calcula o produto escalar de b com o vetor unitário â\n",
    "prodEsc = (aUnit[0] * b[0]) + (aUnit[1] * b[1])\n",
    "print(\"\\nProduto escalar de b com o vetor unitário â = %s\" %prodEsc)\n",
    "\n",
    "# Calcula o vetor normal n em relação à a\n",
    "n = (prodEsc * aUnit) - b\n",
    "print(\"\\nVetor normal n em relação à a \\n %s\" %n)"
   ]
  },
  {
   "cell_type": "markdown",
   "metadata": {},
   "source": [
    "### Exemplo 1.4: O valor esperado de um dado é 3.5."
   ]
  },
  {
   "cell_type": "code",
   "execution_count": 29,
   "metadata": {},
   "outputs": [
    {
     "name": "stdout",
     "output_type": "stream",
     "text": [
      "Valor esperado de um dado = 3.5\n"
     ]
    }
   ],
   "source": [
    "r = 0\n",
    "for i in range(7):\n",
    "    r = (i * 1./6.) + r\n",
    "\n",
    "print(\"Valor esperado de um dado = %s\" %r)"
   ]
  },
  {
   "cell_type": "markdown",
   "metadata": {},
   "source": [
    "### Exemplo 1.6: A média estimada da largura da sépala."
   ]
  },
  {
   "cell_type": "code",
   "execution_count": 38,
   "metadata": {},
   "outputs": [
    {
     "name": "stdout",
     "output_type": "stream",
     "text": [
      "Média das larguras das sépalas: 3.057333333333334\n"
     ]
    }
   ],
   "source": [
    "# Calcula a média estimada da largura da sépala (2a característica)\n",
    "def calcMedia(features):\n",
    "    soma = 0\n",
    "    for i in features:\n",
    "        soma += i\n",
    "    \n",
    "    qtde = len(features)\n",
    "    media = soma / float(qtde)\n",
    "    return media\n",
    "\n",
    "mediaLargSepala = calcMedia(iris[0:150,1])\n",
    "print(\"Média das larguras das sépalas: %s\" %mediaLargSepala)\n"
   ]
  },
  {
   "cell_type": "markdown",
   "metadata": {},
   "source": [
    "### Exemplo 1.7: A variância estimada da largura da sépala."
   ]
  },
  {
   "cell_type": "code",
   "execution_count": 31,
   "metadata": {},
   "outputs": [
    {
     "name": "stdout",
     "output_type": "stream",
     "text": [
      "Variância das larguras das sépalas: 0.189979418345\n"
     ]
    }
   ],
   "source": [
    "# Calcula a variância estimada da largura da sépala (2a característica)\n",
    "def calcVariancia(features):\n",
    "    soma = 0\n",
    "    variancia = 0\n",
    "    media = calcMedia(iris[0:150,1])\n",
    "    \n",
    "    for i in features:\n",
    "        soma += math.pow((i - media), 2)\n",
    "        \n",
    "    variancia = soma / float(len(features) - 1)\n",
    "    return variancia\n",
    "   \n",
    "varianciaLargSepala = calcVariancia(iris[0:150,1])\n",
    "print(\"Variância das larguras das sépalas: %s\" %varianciaLargSepala)"
   ]
  },
  {
   "cell_type": "markdown",
   "metadata": {},
   "source": [
    "### Exemplo 1.8: Cálculo da média global das classes e da média específica de cada classe."
   ]
  },
  {
   "cell_type": "code",
   "execution_count": 39,
   "metadata": {},
   "outputs": [
    {
     "name": "stdout",
     "output_type": "stream",
     "text": [
      "### Média global das classes ### \n",
      " [[5.84333333]\n",
      " [3.05733333]\n",
      " [3.758     ]\n",
      " [1.19933333]]\n",
      "\n",
      "### Média da classe setosa ### \n",
      " [[5.00612245]\n",
      " [3.43061224]\n",
      " [1.46326531]\n",
      " [0.24693878]]\n",
      "\n",
      "### Média da classe versicolor ### \n",
      " [[5.94081633]\n",
      " [2.76938776]\n",
      " [4.26326531]\n",
      " [1.32653061]]\n",
      "\n",
      "### Média da classe virgínica ### \n",
      " [[6.60204082]\n",
      " [2.97346939]\n",
      " [5.56122449]\n",
      " [2.03061224]]\n"
     ]
    }
   ],
   "source": [
    "# Média global das classes\n",
    "mediaGlobal = np.zeros((4,1))\n",
    "for i in range(4):\n",
    "    mediaGlobal[i] = calcMedia(iris[0:150,i])\n",
    "print(\"### Média global das classes ### \\n %s\\n\" %mediaGlobal)\n",
    "\n",
    "# Média específica da classe setosa\n",
    "mediaSetosa = np.zeros((4,1))\n",
    "for i in range(4):\n",
    "    mediaSetosa[i] = calcMedia(iris[0:49,i])\n",
    "print(\"### Média da classe setosa ### \\n %s\\n\" %mediaSetosa)\n",
    "\n",
    "# Média específica da classe versicolor\n",
    "mediaVersicolor = np.zeros((4,1))\n",
    "for i in range(4):\n",
    "    mediaVersicolor[i] = calcMedia(iris[50:99,i])\n",
    "print(\"### Média da classe versicolor ### \\n %s\\n\" %mediaVersicolor)\n",
    "\n",
    "# Média específica da classe virgínica\n",
    "mediaVirginica = np.zeros((4,1))\n",
    "for i in range(4):\n",
    "    mediaVirginica[i] = calcMedia(iris[100:149,i])\n",
    "print(\"### Média da classe virgínica ### \\n %s\" %mediaVirginica)\n"
   ]
  },
  {
   "cell_type": "markdown",
   "metadata": {},
   "source": [
    "### Exemplo 1.9: Matriz de covariância e correlação das flores Iris."
   ]
  },
  {
   "cell_type": "code",
   "execution_count": 35,
   "metadata": {},
   "outputs": [
    {
     "name": "stdout",
     "output_type": "stream",
     "text": [
      "Matriz de covariancia \n",
      " [[ 0.68569351 -0.042434    1.27431544  0.51627069]\n",
      " [-0.042434    0.18997942 -0.32965638 -0.12163937]\n",
      " [ 1.27431544 -0.32965638  3.11627785  1.2956094 ]\n",
      " [ 0.51627069 -0.12163937  1.2956094   0.58100626]]\n",
      "\n",
      "Matriz de correlação \n",
      " [[ 1.         -0.96010753  0.99062003 ...  0.54903003  0.56617664\n",
      "   0.56557313]\n",
      " [-0.96010753  1.         -0.98652842 ... -0.29978234 -0.31489802\n",
      "  -0.31377973]\n",
      " [ 0.99062003 -0.98652842  1.         ...  0.43095472  0.45198536\n",
      "   0.45179939]\n",
      " ...\n",
      " [ 0.54903003 -0.29978234  0.43095472 ...  1.          0.99570813\n",
      "   0.99446012]\n",
      " [ 0.56617664 -0.31489802  0.45198536 ...  0.99570813  1.\n",
      "   0.99991588]\n",
      " [ 0.56557313 -0.31377973  0.45179939 ...  0.99446012  0.99991588\n",
      "   1.        ]]\n"
     ]
    }
   ],
   "source": [
    "# Matriz de covariância\n",
    "matCov = np.cov(np.transpose(iris))\n",
    "print(\"Matriz de covariancia \\n %s\" %matCov)\n",
    "\n",
    "matCorr = np.corrcoef(matCov, iris)\n",
    "print(\"\\nMatriz de correlação \\n %s\" %matCorr)\n"
   ]
  },
  {
   "cell_type": "markdown",
   "metadata": {},
   "source": [
    "### Exemplo 2.1: A codificação One-Hot e o conjunto de treino das flores Iris."
   ]
  },
  {
   "cell_type": "code",
   "execution_count": 36,
   "metadata": {},
   "outputs": [
    {
     "name": "stdout",
     "output_type": "stream",
     "text": [
      "(array([5.1, 3.5, 1.4, 0.2]), array([[1., 0., 0.]]))\n",
      "(array([4.9, 3. , 1.4, 0.2]), array([[1., 0., 0.]]))\n",
      "(array([4.7, 3.2, 1.3, 0.2]), array([[1., 0., 0.]]))\n",
      "(array([4.6, 3.1, 1.5, 0.2]), array([[1., 0., 0.]]))\n",
      "(array([5. , 3.6, 1.4, 0.2]), array([[1., 0., 0.]]))\n",
      "(array([5.4, 3.9, 1.7, 0.4]), array([[1., 0., 0.]]))\n",
      "(array([4.6, 3.4, 1.4, 0.3]), array([[1., 0., 0.]]))\n",
      "(array([5. , 3.4, 1.5, 0.2]), array([[1., 0., 0.]]))\n",
      "(array([4.4, 2.9, 1.4, 0.2]), array([[1., 0., 0.]]))\n",
      "(array([4.9, 3.1, 1.5, 0.1]), array([[1., 0., 0.]]))\n",
      "(array([5.4, 3.7, 1.5, 0.2]), array([[1., 0., 0.]]))\n",
      "(array([4.8, 3.4, 1.6, 0.2]), array([[1., 0., 0.]]))\n",
      "(array([4.8, 3. , 1.4, 0.1]), array([[1., 0., 0.]]))\n",
      "(array([4.3, 3. , 1.1, 0.1]), array([[1., 0., 0.]]))\n",
      "(array([5.8, 4. , 1.2, 0.2]), array([[1., 0., 0.]]))\n",
      "(array([5.7, 4.4, 1.5, 0.4]), array([[1., 0., 0.]]))\n",
      "(array([5.4, 3.9, 1.3, 0.4]), array([[1., 0., 0.]]))\n",
      "(array([5.1, 3.5, 1.4, 0.3]), array([[1., 0., 0.]]))\n",
      "(array([5.7, 3.8, 1.7, 0.3]), array([[1., 0., 0.]]))\n",
      "(array([5.1, 3.8, 1.5, 0.3]), array([[1., 0., 0.]]))\n",
      "(array([5.4, 3.4, 1.7, 0.2]), array([[1., 0., 0.]]))\n",
      "(array([5.1, 3.7, 1.5, 0.4]), array([[1., 0., 0.]]))\n",
      "(array([4.6, 3.6, 1. , 0.2]), array([[1., 0., 0.]]))\n",
      "(array([5.1, 3.3, 1.7, 0.5]), array([[1., 0., 0.]]))\n",
      "(array([4.8, 3.4, 1.9, 0.2]), array([[1., 0., 0.]]))\n",
      "(array([5. , 3. , 1.6, 0.2]), array([[1., 0., 0.]]))\n",
      "(array([5. , 3.4, 1.6, 0.4]), array([[1., 0., 0.]]))\n",
      "(array([5.2, 3.5, 1.5, 0.2]), array([[1., 0., 0.]]))\n",
      "(array([5.2, 3.4, 1.4, 0.2]), array([[1., 0., 0.]]))\n",
      "(array([4.7, 3.2, 1.6, 0.2]), array([[1., 0., 0.]]))\n",
      "(array([4.8, 3.1, 1.6, 0.2]), array([[1., 0., 0.]]))\n",
      "(array([5.4, 3.4, 1.5, 0.4]), array([[1., 0., 0.]]))\n",
      "(array([5.2, 4.1, 1.5, 0.1]), array([[1., 0., 0.]]))\n",
      "(array([5.5, 4.2, 1.4, 0.2]), array([[1., 0., 0.]]))\n",
      "(array([4.9, 3.1, 1.5, 0.2]), array([[1., 0., 0.]]))\n",
      "(array([5. , 3.2, 1.2, 0.2]), array([[1., 0., 0.]]))\n",
      "(array([5.5, 3.5, 1.3, 0.2]), array([[1., 0., 0.]]))\n",
      "(array([4.9, 3.6, 1.4, 0.1]), array([[1., 0., 0.]]))\n",
      "(array([4.4, 3. , 1.3, 0.2]), array([[1., 0., 0.]]))\n",
      "(array([5.1, 3.4, 1.5, 0.2]), array([[1., 0., 0.]]))\n",
      "(array([5. , 3.5, 1.3, 0.3]), array([[1., 0., 0.]]))\n",
      "(array([4.5, 2.3, 1.3, 0.3]), array([[1., 0., 0.]]))\n",
      "(array([4.4, 3.2, 1.3, 0.2]), array([[1., 0., 0.]]))\n",
      "(array([5. , 3.5, 1.6, 0.6]), array([[1., 0., 0.]]))\n",
      "(array([5.1, 3.8, 1.9, 0.4]), array([[1., 0., 0.]]))\n",
      "(array([4.8, 3. , 1.4, 0.3]), array([[1., 0., 0.]]))\n",
      "(array([5.1, 3.8, 1.6, 0.2]), array([[1., 0., 0.]]))\n",
      "(array([4.6, 3.2, 1.4, 0.2]), array([[1., 0., 0.]]))\n",
      "(array([5.3, 3.7, 1.5, 0.2]), array([[1., 0., 0.]]))\n",
      "(array([5. , 3.3, 1.4, 0.2]), array([[1., 0., 0.]]))\n",
      "(array([7. , 3.2, 4.7, 1.4]), array([[1., 0., 0.]]))\n",
      "(array([6.4, 3.2, 4.5, 1.5]), array([[1., 0., 0.]]))\n",
      "(array([6.9, 3.1, 4.9, 1.5]), array([[1., 0., 0.]]))\n",
      "(array([5.5, 2.3, 4. , 1.3]), array([[1., 0., 0.]]))\n",
      "(array([6.5, 2.8, 4.6, 1.5]), array([[1., 0., 0.]]))\n",
      "(array([5.7, 2.8, 4.5, 1.3]), array([[1., 0., 0.]]))\n",
      "(array([6.3, 3.3, 4.7, 1.6]), array([[1., 0., 0.]]))\n",
      "(array([4.9, 2.4, 3.3, 1. ]), array([[1., 0., 0.]]))\n",
      "(array([6.6, 2.9, 4.6, 1.3]), array([[1., 0., 0.]]))\n",
      "(array([5.2, 2.7, 3.9, 1.4]), array([[1., 0., 0.]]))\n",
      "(array([5. , 2. , 3.5, 1. ]), array([[1., 0., 0.]]))\n",
      "(array([5.9, 3. , 4.2, 1.5]), array([[1., 0., 0.]]))\n",
      "(array([6. , 2.2, 4. , 1. ]), array([[1., 0., 0.]]))\n",
      "(array([6.1, 2.9, 4.7, 1.4]), array([[1., 0., 0.]]))\n",
      "(array([5.6, 2.9, 3.6, 1.3]), array([[1., 0., 0.]]))\n",
      "(array([6.7, 3.1, 4.4, 1.4]), array([[1., 0., 0.]]))\n",
      "(array([5.6, 3. , 4.5, 1.5]), array([[1., 0., 0.]]))\n",
      "(array([5.8, 2.7, 4.1, 1. ]), array([[1., 0., 0.]]))\n",
      "(array([6.2, 2.2, 4.5, 1.5]), array([[1., 0., 0.]]))\n",
      "(array([5.6, 2.5, 3.9, 1.1]), array([[1., 0., 0.]]))\n",
      "(array([5.9, 3.2, 4.8, 1.8]), array([[1., 0., 0.]]))\n",
      "(array([6.1, 2.8, 4. , 1.3]), array([[1., 0., 0.]]))\n",
      "(array([6.3, 2.5, 4.9, 1.5]), array([[1., 0., 0.]]))\n",
      "(array([6.1, 2.8, 4.7, 1.2]), array([[1., 0., 0.]]))\n",
      "(array([6.4, 2.9, 4.3, 1.3]), array([[1., 0., 0.]]))\n",
      "(array([6.6, 3. , 4.4, 1.4]), array([[1., 0., 0.]]))\n",
      "(array([6.8, 2.8, 4.8, 1.4]), array([[1., 0., 0.]]))\n",
      "(array([6.7, 3. , 5. , 1.7]), array([[1., 0., 0.]]))\n",
      "(array([6. , 2.9, 4.5, 1.5]), array([[1., 0., 0.]]))\n",
      "(array([5.7, 2.6, 3.5, 1. ]), array([[1., 0., 0.]]))\n",
      "(array([5.5, 2.4, 3.8, 1.1]), array([[1., 0., 0.]]))\n",
      "(array([5.5, 2.4, 3.7, 1. ]), array([[1., 0., 0.]]))\n",
      "(array([5.8, 2.7, 3.9, 1.2]), array([[1., 0., 0.]]))\n",
      "(array([6. , 2.7, 5.1, 1.6]), array([[1., 0., 0.]]))\n",
      "(array([5.4, 3. , 4.5, 1.5]), array([[1., 0., 0.]]))\n",
      "(array([6. , 3.4, 4.5, 1.6]), array([[1., 0., 0.]]))\n",
      "(array([6.7, 3.1, 4.7, 1.5]), array([[1., 0., 0.]]))\n",
      "(array([6.3, 2.3, 4.4, 1.3]), array([[1., 0., 0.]]))\n",
      "(array([5.6, 3. , 4.1, 1.3]), array([[1., 0., 0.]]))\n",
      "(array([5.5, 2.5, 4. , 1.3]), array([[1., 0., 0.]]))\n",
      "(array([5.5, 2.6, 4.4, 1.2]), array([[1., 0., 0.]]))\n",
      "(array([6.1, 3. , 4.6, 1.4]), array([[1., 0., 0.]]))\n",
      "(array([5.8, 2.6, 4. , 1.2]), array([[1., 0., 0.]]))\n",
      "(array([5. , 2.3, 3.3, 1. ]), array([[1., 0., 0.]]))\n",
      "(array([5.6, 2.7, 4.2, 1.3]), array([[1., 0., 0.]]))\n",
      "(array([5.7, 3. , 4.2, 1.2]), array([[1., 0., 0.]]))\n",
      "(array([5.7, 2.9, 4.2, 1.3]), array([[1., 0., 0.]]))\n",
      "(array([6.2, 2.9, 4.3, 1.3]), array([[1., 0., 0.]]))\n",
      "(array([5.1, 2.5, 3. , 1.1]), array([[1., 0., 0.]]))\n",
      "(array([5.7, 2.8, 4.1, 1.3]), array([[1., 0., 0.]]))\n",
      "(array([6.3, 3.3, 6. , 2.5]), array([[1., 0., 0.]]))\n",
      "(array([5.8, 2.7, 5.1, 1.9]), array([[1., 0., 0.]]))\n",
      "(array([7.1, 3. , 5.9, 2.1]), array([[1., 0., 0.]]))\n",
      "(array([6.3, 2.9, 5.6, 1.8]), array([[1., 0., 0.]]))\n",
      "(array([6.5, 3. , 5.8, 2.2]), array([[1., 0., 0.]]))\n",
      "(array([7.6, 3. , 6.6, 2.1]), array([[1., 0., 0.]]))\n",
      "(array([4.9, 2.5, 4.5, 1.7]), array([[1., 0., 0.]]))\n",
      "(array([7.3, 2.9, 6.3, 1.8]), array([[1., 0., 0.]]))\n",
      "(array([6.7, 2.5, 5.8, 1.8]), array([[1., 0., 0.]]))\n",
      "(array([7.2, 3.6, 6.1, 2.5]), array([[1., 0., 0.]]))\n",
      "(array([6.5, 3.2, 5.1, 2. ]), array([[1., 0., 0.]]))\n",
      "(array([6.4, 2.7, 5.3, 1.9]), array([[1., 0., 0.]]))\n",
      "(array([6.8, 3. , 5.5, 2.1]), array([[1., 0., 0.]]))\n",
      "(array([5.7, 2.5, 5. , 2. ]), array([[1., 0., 0.]]))\n",
      "(array([5.8, 2.8, 5.1, 2.4]), array([[1., 0., 0.]]))\n",
      "(array([6.4, 3.2, 5.3, 2.3]), array([[1., 0., 0.]]))\n",
      "(array([6.5, 3. , 5.5, 1.8]), array([[1., 0., 0.]]))\n",
      "(array([7.7, 3.8, 6.7, 2.2]), array([[1., 0., 0.]]))\n",
      "(array([7.7, 2.6, 6.9, 2.3]), array([[1., 0., 0.]]))\n",
      "(array([6. , 2.2, 5. , 1.5]), array([[1., 0., 0.]]))\n",
      "(array([6.9, 3.2, 5.7, 2.3]), array([[1., 0., 0.]]))\n",
      "(array([5.6, 2.8, 4.9, 2. ]), array([[1., 0., 0.]]))\n",
      "(array([7.7, 2.8, 6.7, 2. ]), array([[1., 0., 0.]]))\n",
      "(array([6.3, 2.7, 4.9, 1.8]), array([[1., 0., 0.]]))\n",
      "(array([6.7, 3.3, 5.7, 2.1]), array([[1., 0., 0.]]))\n",
      "(array([7.2, 3.2, 6. , 1.8]), array([[1., 0., 0.]]))\n",
      "(array([6.2, 2.8, 4.8, 1.8]), array([[1., 0., 0.]]))\n",
      "(array([6.1, 3. , 4.9, 1.8]), array([[1., 0., 0.]]))\n",
      "(array([6.4, 2.8, 5.6, 2.1]), array([[1., 0., 0.]]))\n",
      "(array([7.2, 3. , 5.8, 1.6]), array([[1., 0., 0.]]))\n",
      "(array([7.4, 2.8, 6.1, 1.9]), array([[1., 0., 0.]]))\n",
      "(array([7.9, 3.8, 6.4, 2. ]), array([[1., 0., 0.]]))\n",
      "(array([6.4, 2.8, 5.6, 2.2]), array([[1., 0., 0.]]))\n",
      "(array([6.3, 2.8, 5.1, 1.5]), array([[1., 0., 0.]]))\n",
      "(array([6.1, 2.6, 5.6, 1.4]), array([[1., 0., 0.]]))\n",
      "(array([7.7, 3. , 6.1, 2.3]), array([[1., 0., 0.]]))\n",
      "(array([6.3, 3.4, 5.6, 2.4]), array([[1., 0., 0.]]))\n",
      "(array([6.4, 3.1, 5.5, 1.8]), array([[1., 0., 0.]]))\n",
      "(array([6. , 3. , 4.8, 1.8]), array([[1., 0., 0.]]))\n",
      "(array([6.9, 3.1, 5.4, 2.1]), array([[1., 0., 0.]]))\n",
      "(array([6.7, 3.1, 5.6, 2.4]), array([[1., 0., 0.]]))\n",
      "(array([6.9, 3.1, 5.1, 2.3]), array([[1., 0., 0.]]))\n",
      "(array([5.8, 2.7, 5.1, 1.9]), array([[1., 0., 0.]]))\n",
      "(array([6.8, 3.2, 5.9, 2.3]), array([[1., 0., 0.]]))\n",
      "(array([6.7, 3.3, 5.7, 2.5]), array([[1., 0., 0.]]))\n",
      "(array([6.7, 3. , 5.2, 2.3]), array([[1., 0., 0.]]))\n",
      "(array([6.3, 2.5, 5. , 1.9]), array([[1., 0., 0.]]))\n",
      "(array([6.5, 3. , 5.2, 2. ]), array([[1., 0., 0.]]))\n",
      "(array([6.2, 3.4, 5.4, 2.3]), array([[1., 0., 0.]]))\n",
      "(array([5.9, 3. , 5.1, 1.8]), array([[1., 0., 0.]]))\n"
     ]
    }
   ],
   "source": [
    "for l in iris:\n",
    "    print(l, e1)\n"
   ]
  },
  {
   "cell_type": "markdown",
   "metadata": {},
   "source": [
    "### Figura 2.1: Regressão linear."
   ]
  },
  {
   "cell_type": "code",
   "execution_count": 37,
   "metadata": {},
   "outputs": [
    {
     "data": {
      "image/png": "[encoded data removed]",
      "text/plain": [
       "<Figure size 432x288 with 1 Axes>"
      ]
     },
     "metadata": {
      "needs_background": "light"
     },
     "output_type": "display_data"
    },
    {
     "name": "stdout",
     "output_type": "stream",
     "text": [
      "Valor de w = [[0.47456]]\n",
      "Valor de b = [[0.325216]]\n"
     ]
    }
   ],
   "source": [
    "from sklearn.linear_model import LinearRegression\n",
    "from sklearn import linear_model\n",
    "import matplotlib.pyplot as plt\n",
    "%matplotlib inline\n",
    "\n",
    "xTreino = np.array([[0.4], [0.9], [1.5], [2.3], [2.9], [3.1], [3.7]])\n",
    "yTreino = np.array([0.7, 1.0, 0.8, 0.9, 1.4, 2.1, 2.4])\n",
    "\n",
    "xTeste = np.array([[0.4], [0.9], [1.5], [2.3], [2.9], [3.1], [3.7]])\n",
    "yTeste = np.array([0.7, 1.0, 0.8, 0.9, 1.4, 2.1, 2.4])\n",
    "\n",
    "# Criar o modelo e treiná-lo\n",
    "model = linear_model.LinearRegression().fit(xTreino, yTreino)\n",
    "\n",
    "#monta o plot para exibição do resultado\n",
    "plt.scatter(xTeste, yTeste, color='blue', marker='*', linewidth=2)\n",
    "plt.plot(xTeste, model.predict(xTeste), 'g--')\n",
    "plt.axis([0, 4, 0, 3])\n",
    "plt.xlabel('X')\n",
    "plt.ylabel('Y')\n",
    "plt.show()\n",
    "\n",
    "\n",
    "### y = f (x; w, b) = wx + b.\n",
    "### Encontra os valores de w e b.\n",
    "\n",
    "# Calcula o somatório de xTreino (xi)\n",
    "sum_xTreino = np.sum(xTreino)\n",
    "#print(sum_xTreino)\n",
    "\n",
    "# Calcula o somatório de yTreino (yi)\n",
    "sum_yTreino = np.sum(yTreino)\n",
    "#print(sum_yTreino)\n",
    "\n",
    "# Calcula a soma dos produtos (xi * yi)\n",
    "prodSum_x_y = 0\n",
    "i = 0\n",
    "for l in xTreino:\n",
    "    prodSum_x_y = (xTreino[[i]] * yTreino[i]) + prodSum_x_y\n",
    "    i += 1\n",
    "#print(prodSum_x_y)\n",
    "\n",
    "# Calcula a soma dos quadrados (xi²)\n",
    "quadSum_x = 0\n",
    "i = 0\n",
    "for l in xTreino:\n",
    "    quadSum_x = (xTreino[[i]] * xTreino[[i]]) + quadSum_x\n",
    "    i += 1\n",
    "#print(quadSum_x)\n",
    "\n",
    "# Encontra o número de elementos em xTreino (xi)\n",
    "n = xTreino.size\n",
    "#print(n)\n",
    "\n",
    "# Calcula o valor de w\n",
    "w = ((sum_xTreino * sum_yTreino) - (n * prodSum_x_y)) / (math.pow(sum_xTreino, 2) - n * quadSum_x)\n",
    "#w = ((sum_xTreino * sum_yTreino) - (n * prodSum_x_y)) / (math.pow(sum_xTreino, 2))\n",
    "print(\"Valor de w = %s\" %w)\n",
    "\n",
    "# Calcula o valor de b\n",
    "b = (sum_yTreino - w * sum_xTreino) / n\n",
    "print(\"Valor de b = %s\" %b)\n"
   ]
  },
  {
   "cell_type": "code",
   "execution_count": null,
   "metadata": {},
   "outputs": [],
   "source": []
  }
 ],
 "metadata": {
  "kernelspec": {
   "display_name": "Python 3",
   "language": "python",
   "name": "python3"
  },
  "language_info": {
   "codemirror_mode": {
    "name": "ipython",
    "version": 2
   },
   "file_extension": ".py",
   "mimetype": "text/x-python",
   "name": "python",
   "nbconvert_exporter": "python",
   "pygments_lexer": "ipython2",
   "version": "2.7.13"
  }
 },
 "nbformat": 4,
 "nbformat_minor": 2
}
